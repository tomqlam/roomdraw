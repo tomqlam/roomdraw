{
 "cells": [
  {
   "cell_type": "code",
   "execution_count": 1,
   "metadata": {},
   "outputs": [
    {
     "name": "stdout",
     "output_type": "stream",
     "text": [
      "Sending request to: https://www.cs.hmc.edu/~tlam/digitaldraw/api/admin/suites/update-gender-preferences\n",
      "Response status: 200\n",
      "Response body: {\"message\":\"Suite gender preferences updated\"}\n"
     ]
    }
   ],
   "source": [
    "import requests\n",
    "selection = input(\"Do you want to preplace in development or production? (dev/prod) \")\n",
    "base_url = \"\"\n",
    "if selection != \"dev\" and selection != \"prod\":\n",
    "    print(\"Invalid selection, please try again\")\n",
    "    exit()\n",
    "\n",
    "if selection == \"dev\":\n",
    "    base_url = \"http://localhost:8080\"\n",
    "else:\n",
    "    base_url = \"https://www.cs.hmc.edu/~tlam/digitaldraw/api\"\n",
    "\n",
    "admin_jwt = input(\"Please enter your admin JWT: \")\n",
    "\n",
    "# create the headers for the rest request\n",
    "headers = {\n",
    "    'Content-Type': 'application/json',\n",
    "    'Authorization': f'Bearer {admin_jwt}'\n",
    "}\n",
    "\n",
    "# create the url for the rest request - fix the endpoint path\n",
    "url = f'{base_url}/admin/suites/update-gender-preferences'\n",
    "\n",
    "# No need to include userJWT in body since it's already in the Authorization header\n",
    "response = requests.post(url, headers=headers)\n",
    "\n",
    "print(f\"Sending request to: {url}\")\n",
    "print(f\"Response status: {response.status_code}\")\n",
    "print(f\"Response body: {response.text}\")"
   ]
  }
 ],
 "metadata": {
  "kernelspec": {
   "display_name": "roomdraw_env",
   "language": "python",
   "name": "python3"
  },
  "language_info": {
   "codemirror_mode": {
    "name": "ipython",
    "version": 3
   },
   "file_extension": ".py",
   "mimetype": "text/x-python",
   "name": "python",
   "nbconvert_exporter": "python",
   "pygments_lexer": "ipython3",
   "version": "3.10.12"
  }
 },
 "nbformat": 4,
 "nbformat_minor": 2
}
